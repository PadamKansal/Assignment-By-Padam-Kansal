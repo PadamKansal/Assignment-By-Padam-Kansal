{
  "nbformat": 4,
  "nbformat_minor": 0,
  "metadata": {
    "colab": {
      "name": "Assignment 6 .ipynb",
      "provenance": [],
      "collapsed_sections": [],
      "authorship_tag": "ABX9TyPTm90Pf9KOu7oofQ0yG7n/",
      "include_colab_link": true
    },
    "kernelspec": {
      "name": "python3",
      "display_name": "Python 3"
    },
    "language_info": {
      "name": "python"
    }
  },
  "cells": [
    {
      "cell_type": "markdown",
      "metadata": {
        "id": "view-in-github",
        "colab_type": "text"
      },
      "source": [
        "<a href=\"https://colab.research.google.com/github/PadamKansal/Assignment-By-Padam-Kansal/blob/main/Assignment_6_.ipynb\" target=\"_parent\"><img src=\"https://colab.research.google.com/assets/colab-badge.svg\" alt=\"Open In Colab\"/></a>"
      ]
    },
    {
      "cell_type": "code",
      "execution_count": null,
      "metadata": {
        "id": "gZBWr5UuBAPt",
        "colab": {
          "base_uri": "https://localhost:8080/"
        },
        "outputId": "98189cc5-3877-4abc-f99d-0c620a5dd7a8"
      },
      "outputs": [
        {
          "output_type": "stream",
          "name": "stdout",
          "text": [
            "Enter the number->6\n",
            "6 is perfect Number\n"
          ]
        }
      ],
      "source": [
        "#Question-1\n",
        "#check whether the function is Perfect or not\n",
        "num=int(input(\"Enter the number->\"))\n",
        "result = 0\n",
        "i=1\n",
        "while i in range(1,num):\n",
        "  if num%i==0:\n",
        "    result=result+i\n",
        "  i+=1\n",
        "if result==num:\n",
        "  print(num,\"is perfect Number\")\n",
        "else:\n",
        " print(num,\"is not a Perfect Number\")"
      ]
    },
    {
      "cell_type": "code",
      "source": [
        "#Question-2\n",
        "def isPalindrome(s):\n",
        " return s == s[::-1]\n",
        "s = str(input(\"Enter the word here:\"))\n",
        "ans = isPalindrome(s)\n",
        "if ans:\n",
        " print(\"Yes\")\n",
        "else:\n",
        " print(\"No\")"
      ],
      "metadata": {
        "colab": {
          "base_uri": "https://localhost:8080/"
        },
        "id": "fgkjYwL9asHs",
        "outputId": "6025f753-6067-43a2-a866-731778371c74"
      },
      "execution_count": 11,
      "outputs": [
        {
          "output_type": "stream",
          "name": "stdout",
          "text": [
            "Enter the word here:lol\n",
            "Yes\n"
          ]
        }
      ]
    },
    {
      "cell_type": "code",
      "source": [
        "#Question-3\n",
        "from math import factorial\n",
        "n = int(input(\"Enter the number of rows here:\"))\n",
        "for i in range(n):\n",
        " for j in range(n-i+1):\n",
        "  print(end=\" \")\n",
        " for j in range(i+1):\n",
        "  print(factorial(i)//(factorial(j)*factorial(i-j)), end=\" \")\n",
        " print()"
      ],
      "metadata": {
        "id": "Orv_uW1qa72o"
      },
      "execution_count": null,
      "outputs": []
    },
    {
      "cell_type": "code",
      "source": [
        "#Question-4\n",
        "def pangram(str):\n",
        " alphabet = \"abcdefghijklmnopqrstuvwxyz\"\n",
        " for char in alphabet:\n",
        "  if char not in str.lower():\n",
        "    return False\n",
        " return True\n",
        "a = str(input(\"Enter the sentence here:\"))\n",
        "if(pangram(a) == True):\n",
        " print(\"Yes, it is a pangram\")\n",
        "else:\n",
        " print(\"No, it's not a pangram\") "
      ],
      "metadata": {
        "id": "yVe7SQyTbHx-"
      },
      "execution_count": null,
      "outputs": []
    },
    {
      "cell_type": "code",
      "source": [
        "#Question-\n",
        "items=[n for n in input().split('-')]\n",
        "items.sort()\n",
        "print('-'.join(items))\n"
      ],
      "metadata": {
        "id": "SIYzOV-jcXT0"
      },
      "execution_count": null,
      "outputs": []
    },
    {
      "cell_type": "code",
      "source": [
        "#Question-6\n",
        "class student_data:\n",
        " def __init__(self,student_id,student_name,student_class):\n",
        "  self.student_id = student_id\n",
        "  self.student_name = student_name\n",
        "  self.student_class = student_class\n",
        "  print (f'Student ID:{student_id}\\nStudent name:{student_name}\\nStudent class: {student_class}')\n",
        "Padam = student_data('21109029','Padam','Prod')\n",
        "XYZ = student_data('211090XX', 'XYZ', 'Prod')"
      ],
      "metadata": {
        "colab": {
          "base_uri": "https://localhost:8080/"
        },
        "id": "dX9-9thxc9Uw",
        "outputId": "7bc8395f-fb07-4ae7-dd90-3a6af592fd56"
      },
      "execution_count": 28,
      "outputs": [
        {
          "output_type": "stream",
          "name": "stdout",
          "text": [
            "Student ID:21109029\n",
            "Student name:Padam\n",
            "Student class: Prod\n",
            "Student ID:211090XX\n",
            "Student name:XYZ\n",
            "Student class: Prod\n"
          ]
        }
      ]
    },
    {
      "cell_type": "code",
      "source": [
        "#Question-7\n",
        "class Student:\n",
        " pass\n",
        "class Marks:\n",
        " pass\n",
        "student1 = Student()\n",
        "marks1 = Marks()\n",
        "print(isinstance(student1, Student))\n",
        "print(isinstance(marks1, Student))\n",
        "print(isinstance(marks1, Marks))\n",
        "print(isinstance(student1, Marks))\n",
        "print(\"Check whether the said classes are subclasses are of the the built-in object class or not, \")\n",
        "\n",
        "print(issubclass(Student, object))\n",
        "print(issubclass(Marks, object))"
      ],
      "metadata": {
        "colab": {
          "base_uri": "https://localhost:8080/"
        },
        "id": "bqkqR0o5gizC",
        "outputId": "b29e9c2f-efff-4175-aa3c-897246a26dbc"
      },
      "execution_count": 19,
      "outputs": [
        {
          "output_type": "stream",
          "name": "stdout",
          "text": [
            "True\n",
            "False\n",
            "True\n",
            "False\n",
            "Check whether the said classes are subclasses are of the the built-in object class or not, \n",
            "True\n",
            "True\n"
          ]
        }
      ]
    },
    {
      "cell_type": "markdown",
      "source": [
        ""
      ],
      "metadata": {
        "id": "2QEwX17liBwI"
      }
    },
    {
      "cell_type": "code",
      "source": [
        "#Question-8\n",
        "def findTriplets(arr, n):\n",
        "   found = False\n",
        "   for i in range(0, n-2):\n",
        "      for j in range(i+1, n-1):\n",
        "          for k in range(j+1, n):\n",
        "            if (arr[i] + arr[j] + arr[k] == 0):\n",
        "             print(arr[i], arr[j], arr[k])\n",
        "            found = True\n",
        "   if (found == False):\n",
        "       print(\"does not exist\")\n",
        "arr = [-25, -10, -7, -3, 2, 4, 8, 10]\n",
        "n = len(arr)\n",
        "findTriplets(arr, n)"
      ],
      "metadata": {
        "id": "rmy62maAiPSl"
      },
      "execution_count": null,
      "outputs": []
    },
    {
      "cell_type": "code",
      "source": [
        "#Question-9\n",
        "class Solution:\n",
        " def isValid( self, sequence ):\n",
        "  while True:\n",
        "   if '()' in sequence :\n",
        "     sequence = sequence.replace ( '()' , '' )\n",
        "   elif '{}' in sequence :\n",
        "      sequence = sequence.replace ( '{}' , '' )\n",
        "   elif '[]' in sequence :\n",
        "      sequence = sequence.replace ( '[]' , '' )\n",
        "   else:\n",
        "      return not sequence\n",
        "\n",
        "if __name__ == '__main__':\n",
        " sequence = str(input(\"Enter the sequence here:\"))\n",
        " print(f'Is {sequence} valid ? : {Solution().isValid(sequence)}')"
      ],
      "metadata": {
        "id": "KE19lEbKi0QA"
      },
      "execution_count": null,
      "outputs": []
    }
  ]
}