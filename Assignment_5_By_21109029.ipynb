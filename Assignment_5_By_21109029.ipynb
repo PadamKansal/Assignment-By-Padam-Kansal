{
  "nbformat": 4,
  "nbformat_minor": 0,
  "metadata": {
    "colab": {
      "name": "Assignment 5 By 21109029.ipynb",
      "provenance": [],
      "authorship_tag": "ABX9TyOF14+GnS6Q9mPkI93Dlw7z",
      "include_colab_link": true
    },
    "kernelspec": {
      "name": "python3",
      "display_name": "Python 3"
    },
    "language_info": {
      "name": "python"
    }
  },
  "cells": [
    {
      "cell_type": "markdown",
      "metadata": {
        "id": "view-in-github",
        "colab_type": "text"
      },
      "source": [
        "<a href=\"https://colab.research.google.com/github/PadamKansal/Assignment-By-Padam-Kansal/blob/main/Assignment_5_By_21109029.ipynb\" target=\"_parent\"><img src=\"https://colab.research.google.com/assets/colab-badge.svg\" alt=\"Open In Colab\"/></a>"
      ]
    },
    {
      "cell_type": "markdown",
      "source": [
        "Question-1"
      ],
      "metadata": {
        "id": "G4DusCnm7Jae"
      }
    },
    {
      "cell_type": "code",
      "source": [
        "a=str(input(\"Enter the text to reverse: \"))\n",
        "print(a[::-1])"
      ],
      "metadata": {
        "id": "b6KIzr_y7NwL"
      },
      "execution_count": null,
      "outputs": []
    },
    {
      "cell_type": "markdown",
      "source": [
        "Question-2"
      ],
      "metadata": {
        "id": "PjUymEEF7ka6"
      }
    },
    {
      "cell_type": "code",
      "source": [
        "a=int(input(\"Enter the number to check with which you want to check the divisibility: \"))\n",
        "x=int(input(\"Enter the lower limit: \"))\n",
        "y=int(input(\"Enter the upper limit: \"))\n",
        "for i in range(x,y+1):\n",
        "    if i%a==0:\n",
        "        print(i)"
      ],
      "metadata": {
        "id": "8OKk821T7kxw"
      },
      "execution_count": null,
      "outputs": []
    },
    {
      "cell_type": "markdown",
      "source": [
        "Question-3"
      ],
      "metadata": {
        "id": "l3macX3W8Ww-"
      }
    },
    {
      "cell_type": "code",
      "source": [
        "a=int(input(\"Enter first side\"))\n",
        "b=int(input(\"Enter second side\"))\n",
        "c=int(input(\"Enter third side\"))\n",
        "s=(a+b+c)/2\n",
        "if a+b>c and a+c>b and b+c>a:\n",
        "  x=(s*(s-a)*(s-b)*(s-c))**(1/2)\n",
        "  print(\"AREA IS:\",x) "
      ],
      "metadata": {
        "id": "Ca2TlG438XN0"
      },
      "execution_count": null,
      "outputs": []
    },
    {
      "cell_type": "markdown",
      "source": [
        "Question-4"
      ],
      "metadata": {
        "id": "SdhoX9fU8Xj4"
      }
    },
    {
      "cell_type": "code",
      "source": [
        "a = '*'\n",
        "for i in range(1, 6):\n",
        " print(a*i)\n",
        "for i in range(4, 0, -1):\n",
        " print(a*i)\n"
      ],
      "metadata": {
        "colab": {
          "base_uri": "https://localhost:8080/"
        },
        "id": "997-Jku58Xxr",
        "outputId": "0103f8bc-b359-472f-91e6-dfc799d0bb4d"
      },
      "execution_count": null,
      "outputs": [
        {
          "output_type": "stream",
          "name": "stdout",
          "text": [
            "*\n",
            "**\n",
            "***\n",
            "****\n",
            "*****\n",
            "****\n",
            "***\n",
            "**\n",
            "*\n"
          ]
        }
      ]
    },
    {
      "cell_type": "markdown",
      "source": [
        "Question-5"
      ],
      "metadata": {
        "id": "z1nF8wGu8dqO"
      }
    },
    {
      "cell_type": "code",
      "source": [
        "n=int(input(\"Enter the No of Rows: \"))\n",
        "k = 0\n",
        "for i in range(0, n):\n",
        "    for j in range(0, i+1):\n",
        "        print(chr(65+k), end=\" \")\n",
        "        k = k + 1\n",
        "    print()\n"
      ],
      "metadata": {
        "id": "YFiTbFv88f5g"
      },
      "execution_count": null,
      "outputs": []
    },
    {
      "cell_type": "markdown",
      "source": [
        "Question-6"
      ],
      "metadata": {
        "id": "VdrJ5f7S8gQ7"
      }
    },
    {
      "cell_type": "code",
      "source": [
        "lower_value = int(input ( \"Please, Enter the Lower Range value : \" ))\n",
        "upper_value = int(input ( \"Please, Enter the Upper Range Value : \"))\n",
        "print (\"The Prime numbers in the range are: \" )\n",
        "for number in range(lower_value, upper_value + 1):\n",
        " if number > 1:\n",
        "  for i in range (2,number):\n",
        "   if(number % i) == 0:\n",
        "    break\n",
        " else:\n",
        "   print(number)\n"
      ],
      "metadata": {
        "colab": {
          "base_uri": "https://localhost:8080/"
        },
        "id": "0giENfJq8i3X",
        "outputId": "7129325c-e737-4269-e102-72ff9975a490"
      },
      "execution_count": null,
      "outputs": [
        {
          "output_type": "stream",
          "name": "stdout",
          "text": [
            "Please, Enter the Lower Range value : 13\n",
            "Please, Enter the Upper Range Value : 64\n",
            "The Prime numbers in the range are: \n"
          ]
        }
      ]
    },
    {
      "cell_type": "markdown",
      "source": [
        "Question-7"
      ],
      "metadata": {
        "id": "OiPzPA2d8jRM"
      }
    },
    {
      "cell_type": "code",
      "source": [
        "print(\"The numbers which are multiple of 7 and divisible by 11 in the range 1-500 are:\")\n",
        "for i in range(1,501):\n",
        "  if(i%7==0 and i%11==0):\n",
        "   print(i)\n"
      ],
      "metadata": {
        "id": "4a2e9yCv8kcm"
      },
      "execution_count": null,
      "outputs": []
    },
    {
      "cell_type": "markdown",
      "source": [
        "Question-8"
      ],
      "metadata": {
        "id": "2UBWfp3R8kxy"
      }
    },
    {
      "cell_type": "code",
      "source": [
        "\n",
        "\n",
        "i=0\n",
        "j=0\n",
        "count=0\n",
        "lst=list()\n",
        "for i in range(1,11):\n",
        " num=int(input(\"Enter the number:\"))\n",
        " list=lst.append(num)\n",
        "print(\"Positive numbers:\")\n",
        "for i in lst:\n",
        " if i>=0:\n",
        "  print(i)\n",
        "print(\"Negative numbers:\")\n",
        "for i in lst  :\n",
        " if i<0:\n",
        "  print(i)\n",
        "print(\"Odd numbers:\")\n",
        "for i in lst:\n",
        " if i%2!=0:\n",
        "  print(i)\n",
        "print(\"Even numbers:\")\n",
        "for i in lst:\n",
        " if i%2==0:\n",
        "  print(i)\n",
        "print(\"Number of times:\")\n",
        "for i in lst:\n",
        " count=0\n",
        "for j in lst:\n",
        " if i==j:\n",
        "  \\\n",
        "  count=count+1\n",
        " print(i,\"occurs\", count,\"times\")"
      ],
      "metadata": {
        "colab": {
          "base_uri": "https://localhost:8080/",
          "height": 235
        },
        "id": "5efNF8GJ8lxk",
        "outputId": "6b87b24e-95cb-4b2e-942c-588655b244be"
      },
      "execution_count": null,
      "outputs": [
        {
          "output_type": "error",
          "ename": "TypeError",
          "evalue": "ignored",
          "traceback": [
            "\u001b[0;31m---------------------------------------------------------------------------\u001b[0m",
            "\u001b[0;31mTypeError\u001b[0m                                 Traceback (most recent call last)",
            "\u001b[0;32m<ipython-input-26-cd5175e4afe6>\u001b[0m in \u001b[0;36m<module>\u001b[0;34m()\u001b[0m\n\u001b[1;32m      4\u001b[0m \u001b[0mj\u001b[0m\u001b[0;34m=\u001b[0m\u001b[0;36m0\u001b[0m\u001b[0;34m\u001b[0m\u001b[0;34m\u001b[0m\u001b[0m\n\u001b[1;32m      5\u001b[0m \u001b[0mcount\u001b[0m\u001b[0;34m=\u001b[0m\u001b[0;36m0\u001b[0m\u001b[0;34m\u001b[0m\u001b[0;34m\u001b[0m\u001b[0m\n\u001b[0;32m----> 6\u001b[0;31m \u001b[0mlst\u001b[0m\u001b[0;34m=\u001b[0m\u001b[0mlist\u001b[0m\u001b[0;34m(\u001b[0m\u001b[0;34m)\u001b[0m\u001b[0;34m\u001b[0m\u001b[0;34m\u001b[0m\u001b[0m\n\u001b[0m\u001b[1;32m      7\u001b[0m \u001b[0;32mfor\u001b[0m \u001b[0mi\u001b[0m \u001b[0;32min\u001b[0m \u001b[0mrange\u001b[0m\u001b[0;34m(\u001b[0m\u001b[0;36m1\u001b[0m\u001b[0;34m,\u001b[0m\u001b[0;36m11\u001b[0m\u001b[0;34m)\u001b[0m\u001b[0;34m:\u001b[0m\u001b[0;34m\u001b[0m\u001b[0;34m\u001b[0m\u001b[0m\n\u001b[1;32m      8\u001b[0m  \u001b[0mnum\u001b[0m\u001b[0;34m=\u001b[0m\u001b[0mint\u001b[0m\u001b[0;34m(\u001b[0m\u001b[0minput\u001b[0m\u001b[0;34m(\u001b[0m\u001b[0;34m\"Enter the number:\"\u001b[0m\u001b[0;34m)\u001b[0m\u001b[0;34m)\u001b[0m\u001b[0;34m\u001b[0m\u001b[0;34m\u001b[0m\u001b[0m\n",
            "\u001b[0;31mTypeError\u001b[0m: 'NoneType' object is not callable"
          ]
        }
      ]
    },
    {
      "cell_type": "markdown",
      "source": [
        "Question-9"
      ],
      "metadata": {
        "id": "qbQnX1Jc8mGS"
      }
    },
    {
      "cell_type": "code",
      "source": [
        "i=0\n",
        "j=0\n",
        "input_string = input(\"Enter list elements separated by space:\")\n",
        "lst= input_string.split()\n",
        "for i in lst:\n",
        " count=0\n",
        "for j in lst:\n",
        " if i==j:\n",
        "  count=count+1\n",
        " print(i,\"occurs\", count,\"times\")"
      ],
      "metadata": {
        "colab": {
          "base_uri": "https://localhost:8080/"
        },
        "id": "naiug39j8pv1",
        "outputId": "c4df98a5-a3ed-4b52-dd6f-0a7fa98c1813"
      },
      "execution_count": null,
      "outputs": [
        {
          "output_type": "stream",
          "name": "stdout",
          "text": [
            "Enter list elements separated by space:this is the game\n",
            "game occurs 0 times\n",
            "game occurs 0 times\n",
            "game occurs 0 times\n",
            "game occurs 1 times\n"
          ]
        }
      ]
    }
  ]
}