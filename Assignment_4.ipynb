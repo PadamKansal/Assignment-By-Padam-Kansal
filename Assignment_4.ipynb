{
  "nbformat": 4,
  "nbformat_minor": 0,
  "metadata": {
    "colab": {
      "name": "Assignment 4.ipynb",
      "provenance": [],
      "authorship_tag": "ABX9TyNQpAbqu3vEgPjrvJUloRzj",
      "include_colab_link": true
    },
    "kernelspec": {
      "name": "python3",
      "display_name": "Python 3"
    },
    "language_info": {
      "name": "python"
    }
  },
  "cells": [
    {
      "cell_type": "markdown",
      "metadata": {
        "id": "view-in-github",
        "colab_type": "text"
      },
      "source": [
        "<a href=\"https://colab.research.google.com/github/PadamKansal/Assignment-By-Padam-Kansal/blob/main/Assignment_4.ipynb\" target=\"_parent\"><img src=\"https://colab.research.google.com/assets/colab-badge.svg\" alt=\"Open In Colab\"/></a>"
      ]
    },
    {
      "cell_type": "code",
      "execution_count": null,
      "metadata": {
        "id": "EG-ceIoCOx-4"
      },
      "outputs": [],
      "source": [
        "print(\"Q1\")\n",
        "while True:\n",
        "\n",
        "    mark = int(input(\"Enter mark:\"))\n",
        "    if mark < 25:\n",
        "        print(\"Grade: F\")\n",
        "    elif 25 <= mark < 45:\n",
        "        print(\"Grade: E\")\n",
        "    elif 45 <= mark < 50:\n",
        "        print(\"Grade: D\")\n",
        "    elif 50 <= mark < 60:\n",
        "        print(\"Grade: C\")\n",
        "    elif 60 <= mark < 80:\n",
        "        print(\"Grade: B\")\n",
        "    elif mark >= 80:\n",
        "        print(\"Grade: A\")\n",
        "\n",
        "\n"
      ]
    },
    {
      "cell_type": "code",
      "source": [
        "print('Q2')\n",
        "year = int(input('Enter year:'))\n",
        "if year % 4 == 0:\n",
        "    if year % 100 == 0:\n",
        "        print(\"Leap year\")\n",
        "    else:\n",
        "        print(\"Not a leap year\")\n",
        "else:\n",
        "    print(\"Not a leap year\")\n",
        "\n"
      ],
      "metadata": {
        "id": "PWa_szfNO6Im"
      },
      "execution_count": null,
      "outputs": []
    },
    {
      "cell_type": "code",
      "source": [
        "print('Q3')\n",
        "import random\n",
        "\n",
        "for i in range(1,11):\n",
        "    a = random.randint(0, 9)\n",
        "    b = random.randint(0, 9)\n",
        "    ans = int(input(f'Question {i}:{a}x{b}='))\n",
        "    if ans == a*b:\n",
        "        print('Right!')\n",
        "    else:\n",
        "        print('Wrong. The correct answer is', a*b)\n",
        "\n"
      ],
      "metadata": {
        "id": "uZOcynacO8tX"
      },
      "execution_count": null,
      "outputs": []
    },
    {
      "cell_type": "code",
      "source": [
        "print('Q4')\n",
        "for i in range(200):\n",
        "    if i % 5 == 2 and i % 6 == 3 and i % 7 == 2:\n",
        "        print(\"Answer:\",i)"
      ],
      "metadata": {
        "id": "BhD7UlUbO-9_"
      },
      "execution_count": null,
      "outputs": []
    }
  ]
}