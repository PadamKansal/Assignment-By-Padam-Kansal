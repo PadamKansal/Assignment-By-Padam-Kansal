{
  "nbformat": 4,
  "nbformat_minor": 0,
  "metadata": {
    "colab": {
      "name": "Assignment 3.ipynb",
      "provenance": [],
      "collapsed_sections": [],
      "authorship_tag": "ABX9TyNWqb1rtW36sMu6C3l8+O+x",
      "include_colab_link": true
    },
    "kernelspec": {
      "name": "python3",
      "display_name": "Python 3"
    },
    "language_info": {
      "name": "python"
    }
  },
  "cells": [
    {
      "cell_type": "markdown",
      "metadata": {
        "id": "view-in-github",
        "colab_type": "text"
      },
      "source": [
        "<a href=\"https://colab.research.google.com/github/PadamKansal/Assignment-By-Padam-Kansal/blob/main/Assignment_3_21109029.ipynb\" target=\"_parent\"><img src=\"https://colab.research.google.com/assets/colab-badge.svg\" alt=\"Open In Colab\"/></a>"
      ]
    },
    {
      "cell_type": "markdown",
      "source": [
        "Name-Padam Kansal\n",
        "\n",
        "Sid-21109029\n",
        "\n",
        "Branch-Production"
      ],
      "metadata": {
        "id": "gZipfjD-4cPs"
      }
    },
    {
      "cell_type": "markdown",
      "source": [
        "Question1"
      ],
      "metadata": {
        "id": "ONYBobI15EMX"
      }
    },
    {
      "cell_type": "code",
      "execution_count": null,
      "metadata": {
        "id": "eeJjOJr2Y9so"
      },
      "outputs": [],
      "source": [
        "a=int(input(\"enter a number:\"))\n",
        "b=(bin(a))\n",
        "c=b.replace('0b','')\n",
        "print(\"The binary equivalent is:\",c)"
      ]
    },
    {
      "cell_type": "code",
      "source": [
        "#Question-2\n",
        "a=input(\"Enter the expression:\")\n",
        "b=eval(a)\n",
        "print(b)\n"
      ],
      "metadata": {
        "id": "10NQeXZ65nDO"
      },
      "execution_count": null,
      "outputs": []
    },
    {
      "cell_type": "code",
      "source": [
        "#Question-3\n",
        "# 3a \n",
        "a=(3+4)*(5)\n",
        "print(a)"
      ],
      "metadata": {
        "id": "7WEWjkSR6GQW"
      },
      "execution_count": null,
      "outputs": []
    },
    {
      "cell_type": "code",
      "source": [
        "#3b\n",
        "n=int(input('Enter the number:'))\n",
        "b=(n*(n-1))/2\n",
        "print(b)\n"
      ],
      "metadata": {
        "id": "i21OTvdc6upW"
      },
      "execution_count": null,
      "outputs": []
    },
    {
      "cell_type": "code",
      "source": [
        "#3c\n",
        "import math\n",
        "r=int(input('Enter the number:'))\n",
        "c=4*math.pi*(r**2)\n",
        "print(c)"
      ],
      "metadata": {
        "id": "kROvQ0TY7A2e"
      },
      "execution_count": null,
      "outputs": []
    },
    {
      "cell_type": "code",
      "source": [
        "#3d\n",
        "import math\n",
        "r=int(input('Enter The Number: '))\n",
        "a=int(input('Enter the angle:'))\n",
        "d=math.sqrt((r*(math.cos(a))**2) +(r*(math.sin(a))**2))\n",
        "print(d)"
      ],
      "metadata": {
        "id": "7Sgb8Y-w7wnO"
      },
      "execution_count": null,
      "outputs": []
    },
    {
      "cell_type": "code",
      "source": [
        "#3(e)\n",
        "x=int(input('Enter the 1st number:'))\n",
        "y=int(input('Enter the 2nd number:'))\n",
        "e=(y*2-y*1)/(x*2-x*1)\n",
        "print(e)"
      ],
      "metadata": {
        "id": "B4IoTpVE8v3Z"
      },
      "execution_count": null,
      "outputs": []
    },
    {
      "cell_type": "code",
      "source": [
        "#Question-4\n",
        "#4(a)\n",
        "i=0\n",
        "for i in range(5):\n",
        "  print(i)"
      ],
      "metadata": {
        "id": "yi6_qm_58zFw"
      },
      "execution_count": null,
      "outputs": []
    },
    {
      "cell_type": "code",
      "source": [
        "#4(b)\n",
        "i=0\n",
        "for i in range(3,10):\n",
        "  print(i)"
      ],
      "metadata": {
        "id": "LGjLU4Ff9r7x"
      },
      "execution_count": null,
      "outputs": []
    },
    {
      "cell_type": "code",
      "source": [
        "#4(c)\n",
        "i=0\n",
        "for i in range(4,13,3):\n",
        "  print(i)"
      ],
      "metadata": {
        "id": "HanLTTIp97ZX"
      },
      "execution_count": null,
      "outputs": []
    },
    {
      "cell_type": "code",
      "source": [
        "#4(d)\n",
        "i=0\n",
        "for i in range(15,5,-2):\n",
        "  print(i)"
      ],
      "metadata": {
        "id": "3fBGseHK-BbX"
      },
      "execution_count": null,
      "outputs": []
    },
    {
      "cell_type": "code",
      "source": [
        "#4(e)\n",
        "i=0\n",
        "for i in range(5,3):\n",
        "  print(i)"
      ],
      "metadata": {
        "id": "3BwV1QXe-R5w"
      },
      "execution_count": 24,
      "outputs": []
    },
    {
      "cell_type": "code",
      "source": [
        "#Question-5\n",
        "C=int(input('Enter The Number of Carbon Atom in the molecule-> '))\n",
        "H=int(input('Enter The Number of Hydrogen Atom in the molecule-> '))\n",
        "O=int(int(input('Enter The Number of Oxygen Atom in the molecule-> ')))\n",
        "print('The molecular mass of the Molecule is',H*1.00794 + C*12.0107 + O*15.9994 )"
      ],
      "metadata": {
        "id": "7QAPjRkQ-a0w"
      },
      "execution_count": null,
      "outputs": []
    }
  ]
}