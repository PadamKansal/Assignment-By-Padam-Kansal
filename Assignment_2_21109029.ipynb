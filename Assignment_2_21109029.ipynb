{
  "nbformat": 4,
  "nbformat_minor": 0,
  "metadata": {
    "colab": {
      "name": "Assignment 2 .ipynb",
      "provenance": [],
      "collapsed_sections": [],
      "authorship_tag": "ABX9TyPRyxX1TxkBhiCqvkqYhvJU",
      "include_colab_link": true
    },
    "kernelspec": {
      "name": "python3",
      "display_name": "Python 3"
    },
    "language_info": {
      "name": "python"
    }
  },
  "cells": [
    {
      "cell_type": "markdown",
      "metadata": {
        "id": "view-in-github",
        "colab_type": "text"
      },
      "source": [
        "<a href=\"https://colab.research.google.com/github/PadamKansal/Assignment-By-Padam-Kansal/blob/main/Assignment_2_21109029.ipynb\" target=\"_parent\"><img src=\"https://colab.research.google.com/assets/colab-badge.svg\" alt=\"Open In Colab\"/></a>"
      ]
    },
    {
      "cell_type": "markdown",
      "source": [
        "Question 1"
      ],
      "metadata": {
        "id": "B9_AEwnn9wJ1"
      }
    },
    {
      "cell_type": "code",
      "source": [
        "print(\"Question 1 \")\n",
        "input_string = \"Python is a case sensitive language\" # Given in the question\n",
        "\n",
        "# Part 1.a--> Finding length of input string\n",
        "print(\"1.a--> Length of the input string is:\",len(input_string))\n",
        "\n",
        "# Part 1.b--> Reversing the string\n",
        "print(\"1.b--> Reverse of input string is:\",input_string[::-1]) \n",
        "\n",
        "# Part 1.c--> Slicing the string and storing it in new variable.\n",
        "sliced_string = input_string[10:26]   \n",
        "print(\"1.c--> Sliced string is:\",sliced_string)\n",
        "\n",
        "# Part 1.d--> Replacing a part of the string\n",
        "replaced_string=input_string.replace(\"a case sensitive\", \"object oriented\") \n",
        "print(\"1.d--> String after replacing is:\",replaced_string)\n",
        "\n",
        "# Part 1.e--> Finding the index of a substring\n",
        "print(\"1.e--> Index of substring \\\"a\\\" is:\",input_string.index(\"a\")) \n",
        "\n",
        "# Part 1.f--> Removing \" \" from input string\n",
        "print(\"1.f--> String after removing \\\" \\\" is:\",input_string.replace(\" \",\"\") ) \n"
      ],
      "metadata": {
        "id": "BY0FksAf9y4W",
        "colab": {
          "base_uri": "https://localhost:8080/"
        },
        "outputId": "c74c4958-d59f-4d83-8361-a050a76617dd"
      },
      "execution_count": 6,
      "outputs": [
        {
          "output_type": "stream",
          "name": "stdout",
          "text": [
            "Question 1 \n",
            "1.a--> Length of the input string is: 35\n",
            "1.b--> Reverse of input string is: egaugnal evitisnes esac a si nohtyP\n",
            "1.c--> Sliced string is: a case sensitive\n",
            "1.d--> String after replacing is: Python is object oriented language\n",
            "1.e--> Index of substring \"a\" is: 10\n",
            "1.f--> String after removing \" \" is: Pythonisacasesensitivelanguage\n"
          ]
        }
      ]
    },
    {
      "cell_type": "markdown",
      "source": [
        "Question 2"
      ],
      "metadata": {
        "id": "gBxPXvWQDLH9"
      }
    },
    {
      "cell_type": "code",
      "source": [
        "print(\"Question 2\")\n",
        "#data as per question\n",
        "name=\"Padam Kansal\"\n",
        "SID=21109029\n",
        "Department =\"Prod\" \n",
        "CGPA=9.8\n",
        "\n",
        "print(\"Hey, %s Here! \"%name)\n",
        "print(\"My SID is %d\"%SID)\n",
        "print(\"I am from %s Department and my CGPA is %f\"%(Department,CGPA))"
      ],
      "metadata": {
        "id": "lAftkKYuDMvk",
        "colab": {
          "base_uri": "https://localhost:8080/"
        },
        "outputId": "4cbfa542-50c6-4457-91b2-3b81cf8d385b"
      },
      "execution_count": 5,
      "outputs": [
        {
          "output_type": "stream",
          "name": "stdout",
          "text": [
            "Question 2\n",
            "Hey, Padam Kansal Here! \n",
            "My SID is 21109029\n",
            "I am from Prod Department and my CGPA is 9.800000\n"
          ]
        }
      ]
    },
    {
      "cell_type": "markdown",
      "source": [
        "Question-3"
      ],
      "metadata": {
        "id": "Z5rFQlAYFDwY"
      }
    },
    {
      "cell_type": "code",
      "source": [
        "print(\"         Question 3\")\n",
        "# initialising values as per question\n",
        "a=56\n",
        "b=10\n",
        "# Calculating\n",
        "print(\"3.a--> a&b=\",a&b)\n",
        "print(\"3.b--> a|b=\",a|b)\n",
        "print(\"3.c--> a^b=\",a^b)\n",
        "\n",
        "# Left shift both a and b with 2 bits.\n",
        "print(\"3.d--> a<<2=\",a<<2,\"and b<<2=\",b<<2)\n",
        "# Right shift a with 2 bits and b with 4 bits.\n",
        "print(\"3.e--> a>>2=\",a>>2,\"and b>>4=\",b>>4)\n"
      ],
      "metadata": {
        "id": "hSeLWk30EP58",
        "colab": {
          "base_uri": "https://localhost:8080/"
        },
        "outputId": "2a9c3a38-7a25-42d6-cb09-935dd6f1ce65"
      },
      "execution_count": 7,
      "outputs": [
        {
          "output_type": "stream",
          "name": "stdout",
          "text": [
            "         Question 3\n",
            "3.a--> a&b= 8\n",
            "3.b--> a|b= 58\n",
            "3.c--> a^b= 50\n",
            "3.d--> a<<2= 224 and b<<2= 40\n",
            "3.e--> a>>2= 14 and b>>4= 0\n"
          ]
        }
      ]
    },
    {
      "cell_type": "markdown",
      "source": [
        "Question -4"
      ],
      "metadata": {
        "id": "P4gtselEFnP2"
      }
    },
    {
      "cell_type": "code",
      "source": [
        "print(\"         Question 4\")\n",
        "string=input(\"Enter a string:\")\n",
        "if \"name\" in string:\n",
        "    print(\"Yes\")\n",
        "else:\n",
        "    print(\"No\")\n"
      ],
      "metadata": {
        "id": "7nFy8TlRFmRV",
        "colab": {
          "base_uri": "https://localhost:8080/"
        },
        "outputId": "c2d358e3-6799-427a-d563-9da2fb29abfe"
      },
      "execution_count": 8,
      "outputs": [
        {
          "output_type": "stream",
          "name": "stdout",
          "text": [
            "         Question 4\n",
            "Enter a string:hi\n",
            "No\n"
          ]
        }
      ]
    },
    {
      "cell_type": "markdown",
      "source": [
        "Question-5\n",
        "\n"
      ],
      "metadata": {
        "id": "iSq3sAklwXCq"
      }
    },
    {
      "cell_type": "code",
      "source": [
        "print(\"Question 5\")\n",
        "side1=int(input(\"Enter the side 1: \"))\n",
        "side2=int(input(\"Enter the side 2: \"))\n",
        "side3=int(input(\"Enter the side 3: \"))\n",
        "a=side1 + side2\n",
        "b=side2 + side3\n",
        "c=side3 + side1\n",
        "x= (side1 < b)\n",
        "y= (side2 < c)\n",
        "z= (side3 < a)\n",
        "answer = str(x & y & z)\n",
        "answer = answer.replace(\"True\", \"Yes\")\n",
        "answer = answer.replace(\"False\", \"No\")\n",
        "print(answer)"
      ],
      "metadata": {
        "colab": {
          "base_uri": "https://localhost:8080/"
        },
        "id": "Ya7aOmjpwnMM",
        "outputId": "967629b6-ab2d-4acd-cc85-6d42152844f7"
      },
      "execution_count": 9,
      "outputs": [
        {
          "output_type": "stream",
          "name": "stdout",
          "text": [
            "Question 5\n",
            "Enter the side 1: 50\n",
            "Enter the side 2: 46\n",
            "Enter the side 3: 65\n",
            "Yes\n"
          ]
        }
      ]
    },
    {
      "cell_type": "markdown",
      "source": [
        "Question-6"
      ],
      "metadata": {
        "id": "2sYd5oNWw4OC"
      }
    },
    {
      "cell_type": "code",
      "source": [
        "a=int(input(\"Enter the 1st number:\"))\n",
        "b=int(input(\"Enter the 2nd number:\")) \n",
        "n=a^b\n",
        "count=0\n",
        "while n:\n",
        "\n",
        " count=count+1\n",
        " n=n&(n-1)\n",
        "\n",
        "print(\"Required number of bits to be flipped:\",count)"
      ],
      "metadata": {
        "colab": {
          "base_uri": "https://localhost:8080/"
        },
        "id": "QYj8OEbYw6ka",
        "outputId": "9f042451-4b3e-4d2c-b049-b26ddb406ff9"
      },
      "execution_count": 11,
      "outputs": [
        {
          "output_type": "stream",
          "name": "stdout",
          "text": [
            "Enter the 1st number:56\n",
            "Enter the 2nd number:45\n",
            "Required number of bits to be flipped: 3\n"
          ]
        }
      ]
    }
  ]
}